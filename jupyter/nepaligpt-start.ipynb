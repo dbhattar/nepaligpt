{
 "cells": [
  {
   "cell_type": "markdown",
   "id": "2e92647a-f20b-45dc-9e0a-3aaca5011855",
   "metadata": {
    "tags": []
   },
   "source": [
    "# Nepali GPT Experiment"
   ]
  },
  {
   "cell_type": "markdown",
   "id": "38f632d0-db78-4820-bfb0-ebe701de55d1",
   "metadata": {},
   "source": [
    "First line of devkota's Bhikhari poem:\n",
    "\n",
    " हेर भिखारी अडि अडि आयो"
   ]
  },
  {
   "cell_type": "code",
   "execution_count": 6,
   "id": "39dc31fc-8dd3-4552-9c21-ae84b77c4fba",
   "metadata": {
    "tags": []
   },
   "outputs": [
    {
     "name": "stdout",
     "output_type": "stream",
     "text": [
      "हेर भिखारी अडि अडि आयो\n"
     ]
    },
    {
     "data": {
      "text/plain": [
       "22"
      ]
     },
     "execution_count": 6,
     "metadata": {},
     "output_type": "execute_result"
    }
   ],
   "source": [
    "text = \"हेर भिखारी अडि अडि आयो\"\n",
    "print(text)\n",
    "len(text)"
   ]
  },
  {
   "cell_type": "markdown",
   "id": "2188ae6b-c8b9-4dd1-8a84-dac24df28406",
   "metadata": {},
   "source": [
    "If you count the number of characters in the above line of text, there are actually `15` user-perceived characters. But when we use the `len` method on that text, it returns `22`.\n",
    "\n",
    "Non-english texts especially the ones that may make use of multiple Unicode codepoint to represent a single user-perceived character cannot be split using Python's built-in text splitting routines. They need special functions that are aware of graphemes.\n",
    "\n",
    "Look at: https://github.com/alvinlindstam/grapheme/tree/master\n",
    "\n",
    "Following has some good discussion on the grapheme cluster algorithm: https://bugs.python.org/issue30717"
   ]
  },
  {
   "cell_type": "code",
   "execution_count": 8,
   "id": "7086811c-a9a4-4989-ad69-71c56e58ff9e",
   "metadata": {
    "tags": []
   },
   "outputs": [],
   "source": [
    "import grapheme"
   ]
  },
  {
   "cell_type": "code",
   "execution_count": 9,
   "id": "b26c442f-8710-4668-84d2-faafac5a4720",
   "metadata": {
    "tags": []
   },
   "outputs": [
    {
     "data": {
      "text/plain": [
       "15"
      ]
     },
     "execution_count": 9,
     "metadata": {},
     "output_type": "execute_result"
    }
   ],
   "source": [
    "grapheme.length(text)"
   ]
  },
  {
   "cell_type": "markdown",
   "id": "b14e2b52-d0cb-4b1d-9882-0f52dd5af732",
   "metadata": {},
   "source": [
    "If you notice, `grapheme` module above correctly returns `15`."
   ]
  },
  {
   "cell_type": "code",
   "execution_count": null,
   "id": "435f19d4-42dc-4b7a-970f-d83e2cc6a15a",
   "metadata": {},
   "outputs": [],
   "source": [
    "grapheme."
   ]
  }
 ],
 "metadata": {
  "kernelspec": {
   "display_name": "Python 3 (ipykernel)",
   "language": "python",
   "name": "python3"
  },
  "language_info": {
   "codemirror_mode": {
    "name": "ipython",
    "version": 3
   },
   "file_extension": ".py",
   "mimetype": "text/x-python",
   "name": "python",
   "nbconvert_exporter": "python",
   "pygments_lexer": "ipython3",
   "version": "3.11.5"
  }
 },
 "nbformat": 4,
 "nbformat_minor": 5
}
