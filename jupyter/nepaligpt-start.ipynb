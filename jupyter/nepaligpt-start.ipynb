{
 "cells": [
  {
   "cell_type": "markdown",
   "id": "2e92647a-f20b-45dc-9e0a-3aaca5011855",
   "metadata": {
    "tags": []
   },
   "source": [
    "# Nepali GPT Experiment"
   ]
  },
  {
   "cell_type": "markdown",
   "id": "38f632d0-db78-4820-bfb0-ebe701de55d1",
   "metadata": {},
   "source": [
    "First line of devkota's Bhikhari poem:\n",
    "\n",
    " हेर भिखारी अडि अडि आयो"
   ]
  },
  {
   "cell_type": "code",
   "execution_count": 11,
   "id": "39dc31fc-8dd3-4552-9c21-ae84b77c4fba",
   "metadata": {
    "tags": []
   },
   "outputs": [
    {
     "name": "stdout",
     "output_type": "stream",
     "text": [
      "हेर भिखारी अडि अडि आयो\n",
      "['ह', 'े', 'र', ' ', 'भ', 'ि', 'ख', 'ा', 'र', 'ी', ' ', 'अ', 'ड', 'ि', ' ', 'अ', 'ड', 'ि', ' ', 'आ', 'य', 'ो']\n"
     ]
    }
   ],
   "source": [
    "text = \"हेर भिखारी अडि अडि आयो\"\n",
    "print(text)\n",
    "ltext = list(text)\n",
    "len(text)\n",
    "print(ltext)"
   ]
  },
  {
   "cell_type": "markdown",
   "id": "2188ae6b-c8b9-4dd1-8a84-dac24df28406",
   "metadata": {},
   "source": [
    "If you count the number of characters in the above line of text, there are actually `15` user-perceived characters. But when we use the `len` method on that text, it returns `22`.\n",
    "\n",
    "Non-english texts especially the ones that may make use of multiple Unicode codepoint to represent a single user-perceived character cannot be split using Python's built-in text splitting routines. They need special functions that are aware of graphemes.\n",
    "\n",
    "Look at: https://github.com/alvinlindstam/grapheme/tree/master\n",
    "\n",
    "Following has some good discussion on the grapheme cluster algorithm: https://bugs.python.org/issue30717"
   ]
  },
  {
   "cell_type": "code",
   "execution_count": 8,
   "id": "7086811c-a9a4-4989-ad69-71c56e58ff9e",
   "metadata": {
    "tags": []
   },
   "outputs": [],
   "source": [
    "import grapheme"
   ]
  },
  {
   "cell_type": "code",
   "execution_count": 13,
   "id": "b26c442f-8710-4668-84d2-faafac5a4720",
   "metadata": {
    "tags": []
   },
   "outputs": [
    {
     "name": "stdout",
     "output_type": "stream",
     "text": [
      "हे\n",
      "र\n",
      " \n",
      "भि\n",
      "खा\n",
      "री\n",
      " \n",
      "अ\n",
      "डि\n",
      " \n",
      "अ\n",
      "डि\n",
      " \n",
      "आ\n",
      "यो\n"
     ]
    }
   ],
   "source": [
    "grapheme.length(text)\n",
    "gs = grapheme.graphemes(text)\n",
    "for g in gs:\n",
    "    print(g)"
   ]
  },
  {
   "cell_type": "markdown",
   "id": "4d24020e-a0f4-49c1-af52-3450fea18461",
   "metadata": {},
   "source": [
    "If you notice, `grapheme` module above correctly returns `15`.\n",
    "\n",
    "Devanagari Unicode: https://unicode.org/charts/PDF/U0900.pdf"
   ]
  },
  {
   "cell_type": "code",
   "execution_count": 18,
   "id": "6e982af6-dfb2-4586-a85e-4de11bb8d7c1",
   "metadata": {
    "tags": []
   },
   "outputs": [
    {
     "name": "stdout",
     "output_type": "stream",
     "text": [
      "['ज', '्', 'ञ', 'ा', 'न', 'ी', 'त', '्', 'र', 'क', '्', 'ष']\n"
     ]
    }
   ],
   "source": [
    "new_text = \"ज्ञानीत्रक्ष\"\n",
    "new_list = list(new_text)\n",
    "print(new_list)"
   ]
  },
  {
   "cell_type": "code",
   "execution_count": 19,
   "id": "b44a04c6-c12e-44ec-91a0-14aeabe35225",
   "metadata": {
    "tags": []
   },
   "outputs": [
    {
     "name": "stdout",
     "output_type": "stream",
     "text": [
      "ज्\n",
      "ञा\n",
      "नी\n",
      "त्\n",
      "र\n",
      "क्\n",
      "ष\n"
     ]
    }
   ],
   "source": [
    "for gr in grapheme.graphemes(new_text):\n",
    "    print(gr)"
   ]
  },
  {
   "cell_type": "markdown",
   "id": "e7c67d9a-466a-41e4-bc84-9f26ece435fc",
   "metadata": {},
   "source": [
    "Graphemes works better than just using single Unicode codepoint. Even then, since some characters that are normally treated as a single unit are not defined in the standard, it can still be confusing. For now, we will work with whatever we have.\n",
    "\n",
    "We will using grapheme as the single unit to construct the language model."
   ]
  },
  {
   "cell_type": "code",
   "execution_count": 23,
   "id": "a865ef5b-c877-4803-b574-5bf3eb2afcfe",
   "metadata": {
    "tags": []
   },
   "outputs": [
    {
     "name": "stdout",
     "output_type": "stream",
     "text": [
      "/Users/dipeshbhattarai/Projects/nepaligpt/jupyter\n"
     ]
    }
   ],
   "source": [
    "import os\n",
    "print(os.getcwd())\n",
    "f = open('../devkota/bhikari.txt', 'r')\n",
    "txt = f.read()"
   ]
  },
  {
   "cell_type": "code",
   "execution_count": 24,
   "id": "032b8792-00dc-4754-8fea-87b03ab300a6",
   "metadata": {
    "tags": []
   },
   "outputs": [
    {
     "name": "stdout",
     "output_type": "stream",
     "text": [
      "(१)\n",
      "हेर भिखारी अडि अडि आयो\n",
      "करुण दृष्टिले नजर उठायो।\n",
      "गाढा दुखको मौन प्रकाश।\n",
      "झिना आशा-तार बजायो\n",
      "घाम उज्यालो आँगन पास।\n",
      "एक बिन्दुमा गोल खसायो\n",
      "जीवनको इतिहास।\n",
      "(२)\n",
      "हेर, हेर ती झुत्रा चिथरा\n",
      "हाय! हे समय निष्ठुर।\n",
      "जीवनप थमा बिचार पथरा!\n",
      "काँपिरहेको थुरथुर।\n",
      " झल्लर झोली बढाउँछ, बबुरा।\n",
      "करले अस्थिर, कातर।\n",
      "(३)\n",
      "बर्ष-बर्षका हेर तुषारा \n",
      "शिरको उपर गिरेको।\n",
      " हेर आँसुका खहरेहरूका\n",
      " मुखमा खोंच परेको,\n",
      " दिन-दिनको त्यो छातीमाथी \n",
      "चिरा चारक्क चिरेको।\n",
      "(४)\n",
      "अडि अडि धरमर स्वाँ स्वाँ गर्दै \n",
      "मौन विलौना वरिपरी भर्दै \n",
      "आर्तनादका हृदय फुटी,\n",
      " जड लट्ठीको भरमा पर्दै\n",
      " भन्दछ स्वरले छाती चिर्दै \n",
      "चामल एक मुठी।\n",
      " जीवनभरको एक पुकारा \n",
      "चामल एक मुठी।\n",
      "(५)\n",
      " मानिससँगमा मानिसको यो \n",
      "अन्तर्दिलको रोदन। \n",
      "भाईहरुसँग भिक्षाको यो \n",
      "मुठी द याको याचना। \n",
      "घाम उज्यालो आँगनमा यो \n",
      "एक आँध्यारो अवलोकन।\n",
      " गुलबहरूको हाँसोबिच यो \n",
      "एक उन्यौँको रोदन।\n",
      "(६)\n",
      " को होला यो, कसको छोरा?\n",
      "कसको बाबु गरीब? \n",
      "कुन आमाले काख लिँदामा \n",
      "बल्थे दृगका दुइ दीप?\n",
      " कुन आशाले नजर खुलायो \n",
      "सूर्य चाद्रको नजरसमिप?\n",
      " किन मुर्झायो? किन वौलायो?\n",
      " किन मधुरो यो जीवन्- व्दीप? \n",
      "(७)\n",
      "बुद्ध देवको नजर अगाडि\n",
      " यही भिखरी आएथ्यो,\n",
      " मुर्ति यसैमा शब्द यिनैमा \n",
      "मुटुको शूल कराएथ्यो,\n",
      " महान दयाको सागर ठूलो \n",
      "शब्द यिनैमा लहराएथ्यो, \n",
      "भेष यसैले बलिको शेखी\n",
      " पवित्र पारी निठुराएथ्यो।\n",
      "(८)\n",
      " कालो बादलबाट खसेको \n",
      " अन्धकारमा भित्र पसेको,\n",
      " ईश्वर हो कि भिखारी?\n",
      " बोल्दछ ईश्वर हृदय घुसेका \n",
      " घर, घर आँगन चारी\n",
      " बोल्दछ, आर्तध्वनिमा बोल्दछ\n",
      " करूणामृत दिल भारी।\n",
      " युग-युगभरको आँसुहरूको\n",
      " सार अपार उतारी। \n",
      " दु:खको दिलामा ईश्वर बोल्दछ\n",
      " अधर अनन्त उघारी।\n",
      " माग्दछ करूणा भाइहरूमा \n",
      " आई पृथिविवारि,\n",
      " माग्दछ भिक्षा ईश्वर मेरो\n",
      " आँगनको एक भिखारी?\n",
      "\n"
     ]
    }
   ],
   "source": [
    "print(txt)"
   ]
  },
  {
   "cell_type": "code",
   "execution_count": null,
   "id": "13557dfc-860c-4d46-86fb-1d199e3bc923",
   "metadata": {},
   "outputs": [],
   "source": []
  }
 ],
 "metadata": {
  "kernelspec": {
   "display_name": "Python 3 (ipykernel)",
   "language": "python",
   "name": "python3"
  },
  "language_info": {
   "codemirror_mode": {
    "name": "ipython",
    "version": 3
   },
   "file_extension": ".py",
   "mimetype": "text/x-python",
   "name": "python",
   "nbconvert_exporter": "python",
   "pygments_lexer": "ipython3",
   "version": "3.11.5"
  }
 },
 "nbformat": 4,
 "nbformat_minor": 5
}
