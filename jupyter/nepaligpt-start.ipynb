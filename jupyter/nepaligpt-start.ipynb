{
 "cells": [
  {
   "cell_type": "markdown",
   "id": "2e92647a-f20b-45dc-9e0a-3aaca5011855",
   "metadata": {
    "tags": []
   },
   "source": [
    "# Nepali GPT Experiment"
   ]
  },
  {
   "cell_type": "markdown",
   "id": "38f632d0-db78-4820-bfb0-ebe701de55d1",
   "metadata": {},
   "source": [
    "First line of devkota's Bhikhari poem:\n",
    "\n",
    " हेर भिखारी अडि अडि आयो"
   ]
  },
  {
   "cell_type": "code",
   "execution_count": 11,
   "id": "39dc31fc-8dd3-4552-9c21-ae84b77c4fba",
   "metadata": {
    "tags": []
   },
   "outputs": [
    {
     "name": "stdout",
     "output_type": "stream",
     "text": [
      "हेर भिखारी अडि अडि आयो\n",
      "['ह', 'े', 'र', ' ', 'भ', 'ि', 'ख', 'ा', 'र', 'ी', ' ', 'अ', 'ड', 'ि', ' ', 'अ', 'ड', 'ि', ' ', 'आ', 'य', 'ो']\n"
     ]
    }
   ],
   "source": [
    "text = \"हेर भिखारी अडि अडि आयो\"\n",
    "print(text)\n",
    "ltext = list(text)\n",
    "len(text)\n",
    "print(ltext)"
   ]
  },
  {
   "cell_type": "markdown",
   "id": "2188ae6b-c8b9-4dd1-8a84-dac24df28406",
   "metadata": {},
   "source": [
    "If you count the number of characters in the above line of text, there are actually `15` user-perceived characters. But when we use the `len` method on that text, it returns `22`.\n",
    "\n",
    "Non-english texts especially the ones that may make use of multiple Unicode codepoint to represent a single user-perceived character cannot be split using Python's built-in text splitting routines. They need special functions that are aware of graphemes.\n",
    "\n",
    "Look at: https://github.com/alvinlindstam/grapheme/tree/master\n",
    "\n",
    "Following has some good discussion on the grapheme cluster algorithm: https://bugs.python.org/issue30717"
   ]
  },
  {
   "cell_type": "code",
   "execution_count": 8,
   "id": "7086811c-a9a4-4989-ad69-71c56e58ff9e",
   "metadata": {
    "tags": []
   },
   "outputs": [],
   "source": [
    "import grapheme"
   ]
  },
  {
   "cell_type": "code",
   "execution_count": 13,
   "id": "b26c442f-8710-4668-84d2-faafac5a4720",
   "metadata": {
    "tags": []
   },
   "outputs": [
    {
     "name": "stdout",
     "output_type": "stream",
     "text": [
      "हे\n",
      "र\n",
      " \n",
      "भि\n",
      "खा\n",
      "री\n",
      " \n",
      "अ\n",
      "डि\n",
      " \n",
      "अ\n",
      "डि\n",
      " \n",
      "आ\n",
      "यो\n"
     ]
    }
   ],
   "source": [
    "grapheme.length(text)\n",
    "gs = grapheme.graphemes(text)\n",
    "for g in gs:\n",
    "    print(g)"
   ]
  },
  {
   "cell_type": "markdown",
   "id": "4d24020e-a0f4-49c1-af52-3450fea18461",
   "metadata": {},
   "source": [
    "If you notice, `grapheme` module above correctly returns `15`.\n",
    "\n",
    "Devanagari Unicode: https://unicode.org/charts/PDF/U0900.pdf"
   ]
  },
  {
   "cell_type": "code",
   "execution_count": 18,
   "id": "6e982af6-dfb2-4586-a85e-4de11bb8d7c1",
   "metadata": {
    "tags": []
   },
   "outputs": [
    {
     "name": "stdout",
     "output_type": "stream",
     "text": [
      "['ज', '्', 'ञ', 'ा', 'न', 'ी', 'त', '्', 'र', 'क', '्', 'ष']\n"
     ]
    }
   ],
   "source": [
    "new_text = \"ज्ञानीत्रक्ष\"\n",
    "new_list = list(new_text)\n",
    "print(new_list)"
   ]
  },
  {
   "cell_type": "code",
   "execution_count": 19,
   "id": "b44a04c6-c12e-44ec-91a0-14aeabe35225",
   "metadata": {
    "tags": []
   },
   "outputs": [
    {
     "name": "stdout",
     "output_type": "stream",
     "text": [
      "ज्\n",
      "ञा\n",
      "नी\n",
      "त्\n",
      "र\n",
      "क्\n",
      "ष\n"
     ]
    }
   ],
   "source": [
    "for gr in grapheme.graphemes(new_text):\n",
    "    print(gr)"
   ]
  },
  {
   "cell_type": "markdown",
   "id": "e7c67d9a-466a-41e4-bc84-9f26ece435fc",
   "metadata": {},
   "source": [
    "Graphemes works better than just using single Unicode codepoint. Even then, since some characters that are normally treated as a single unit are not defined in the standard, it can still be confusing. For now, we will work with whatever we have.\n",
    "\n",
    "We will using grapheme as the single unit to construct the language model."
   ]
  },
  {
   "cell_type": "code",
   "execution_count": 39,
   "id": "a865ef5b-c877-4803-b574-5bf3eb2afcfe",
   "metadata": {
    "tags": []
   },
   "outputs": [],
   "source": [
    "import os\n",
    "f = open('../devkota/bhikari.txt', 'r')\n",
    "txt = f.read()"
   ]
  },
  {
   "cell_type": "code",
   "execution_count": 24,
   "id": "032b8792-00dc-4754-8fea-87b03ab300a6",
   "metadata": {
    "tags": []
   },
   "outputs": [
    {
     "name": "stdout",
     "output_type": "stream",
     "text": [
      "(१)\n",
      "हेर भिखारी अडि अडि आयो\n",
      "करुण दृष्टिले नजर उठायो।\n",
      "गाढा दुखको मौन प्रकाश।\n",
      "झिना आशा-तार बजायो\n",
      "घाम उज्यालो आँगन पास।\n",
      "एक बिन्दुमा गोल खसायो\n",
      "जीवनको इतिहास।\n",
      "(२)\n",
      "हेर, हेर ती झुत्रा चिथरा\n",
      "हाय! हे समय निष्ठुर।\n",
      "जीवनप थमा बिचार पथरा!\n",
      "काँपिरहेको थुरथुर।\n",
      " झल्लर झोली बढाउँछ, बबुरा।\n",
      "करले अस्थिर, कातर।\n",
      "(३)\n",
      "बर्ष-बर्षका हेर तुषारा \n",
      "शिरको उपर गिरेको।\n",
      " हेर आँसुका खहरेहरूका\n",
      " मुखमा खोंच परेको,\n",
      " दिन-दिनको त्यो छातीमाथी \n",
      "चिरा चारक्क चिरेको।\n",
      "(४)\n",
      "अडि अडि धरमर स्वाँ स्वाँ गर्दै \n",
      "मौन विलौना वरिपरी भर्दै \n",
      "आर्तनादका हृदय फुटी,\n",
      " जड लट्ठीको भरमा पर्दै\n",
      " भन्दछ स्वरले छाती चिर्दै \n",
      "चामल एक मुठी।\n",
      " जीवनभरको एक पुकारा \n",
      "चामल एक मुठी।\n",
      "(५)\n",
      " मानिससँगमा मानिसको यो \n",
      "अन्तर्दिलको रोदन। \n",
      "भाईहरुसँग भिक्षाको यो \n",
      "मुठी द याको याचना। \n",
      "घाम उज्यालो आँगनमा यो \n",
      "एक आँध्यारो अवलोकन।\n",
      " गुलबहरूको हाँसोबिच यो \n",
      "एक उन्यौँको रोदन।\n",
      "(६)\n",
      " को होला यो, कसको छोरा?\n",
      "कसको बाबु गरीब? \n",
      "कुन आमाले काख लिँदामा \n",
      "बल्थे दृगका दुइ दीप?\n",
      " कुन आशाले नजर खुलायो \n",
      "सूर्य चाद्रको नजरसमिप?\n",
      " किन मुर्झायो? किन वौलायो?\n",
      " किन मधुरो यो जीवन्- व्दीप? \n",
      "(७)\n",
      "बुद्ध देवको नजर अगाडि\n",
      " यही भिखरी आएथ्यो,\n",
      " मुर्ति यसैमा शब्द यिनैमा \n",
      "मुटुको शूल कराएथ्यो,\n",
      " महान दयाको सागर ठूलो \n",
      "शब्द यिनैमा लहराएथ्यो, \n",
      "भेष यसैले बलिको शेखी\n",
      " पवित्र पारी निठुराएथ्यो।\n",
      "(८)\n",
      " कालो बादलबाट खसेको \n",
      " अन्धकारमा भित्र पसेको,\n",
      " ईश्वर हो कि भिखारी?\n",
      " बोल्दछ ईश्वर हृदय घुसेका \n",
      " घर, घर आँगन चारी\n",
      " बोल्दछ, आर्तध्वनिमा बोल्दछ\n",
      " करूणामृत दिल भारी।\n",
      " युग-युगभरको आँसुहरूको\n",
      " सार अपार उतारी। \n",
      " दु:खको दिलामा ईश्वर बोल्दछ\n",
      " अधर अनन्त उघारी।\n",
      " माग्दछ करूणा भाइहरूमा \n",
      " आई पृथिविवारि,\n",
      " माग्दछ भिक्षा ईश्वर मेरो\n",
      " आँगनको एक भिखारी?\n",
      "\n"
     ]
    }
   ],
   "source": [
    "print(txt)"
   ]
  },
  {
   "cell_type": "code",
   "execution_count": 25,
   "id": "13557dfc-860c-4d46-86fb-1d199e3bc923",
   "metadata": {
    "tags": []
   },
   "outputs": [],
   "source": [
    "lines = txt.splitlines()"
   ]
  },
  {
   "cell_type": "code",
   "execution_count": 27,
   "id": "903c481d-8f8d-4127-948b-d842fa28f99b",
   "metadata": {
    "tags": []
   },
   "outputs": [
    {
     "data": {
      "text/plain": [
       "'(१)'"
      ]
     },
     "execution_count": 27,
     "metadata": {},
     "output_type": "execute_result"
    }
   ],
   "source": [
    "lines[0]"
   ]
  },
  {
   "cell_type": "code",
   "execution_count": 28,
   "id": "e11fd859-3270-4f1d-a321-a2c89d282df4",
   "metadata": {
    "tags": []
   },
   "outputs": [
    {
     "name": "stdout",
     "output_type": "stream",
     "text": [
      "(१)\n",
      "हेर भिखारी अडि अडि आयो\n",
      "करुण दृष्टिले नजर उठायो।\n",
      "गाढा दुखको मौन प्रकाश।\n",
      "झिना आशा-तार बजायो\n",
      "घाम उज्यालो आँगन पास।\n",
      "एक बिन्दुमा गोल खसायो\n",
      "जीवनको इतिहास।\n",
      "(२)\n",
      "हेर, हेर ती झुत्रा चिथरा\n",
      "हाय! हे समय निष्ठुर।\n",
      "जीवनप थमा बिचार पथरा!\n",
      "काँपिरहेको थुरथुर।\n",
      " झल्लर झोली बढाउँछ, बबुरा।\n",
      "करले अस्थिर, कातर।\n",
      "(३)\n",
      "बर्ष-बर्षका हेर तुषारा \n",
      "शिरको उपर गिरेको।\n",
      " हेर आँसुका खहरेहरूका\n",
      " मुखमा खोंच परेको,\n",
      " दिन-दिनको त्यो छातीमाथी \n",
      "चिरा चारक्क चिरेको।\n",
      "(४)\n",
      "अडि अडि धरमर स्वाँ स्वाँ गर्दै \n",
      "मौन विलौना वरिपरी भर्दै \n",
      "आर्तनादका हृदय फुटी,\n",
      " जड लट्ठीको भरमा पर्दै\n",
      " भन्दछ स्वरले छाती चिर्दै \n",
      "चामल एक मुठी।\n",
      " जीवनभरको एक पुकारा \n",
      "चामल एक मुठी।\n",
      "(५)\n",
      " मानिससँगमा मानिसको यो \n",
      "अन्तर्दिलको रोदन। \n",
      "भाईहरुसँग भिक्षाको यो \n",
      "मुठी द याको याचना। \n",
      "घाम उज्यालो आँगनमा यो \n",
      "एक आँध्यारो अवलोकन।\n",
      " गुलबहरूको हाँसोबिच यो \n",
      "एक उन्यौँको रोदन।\n",
      "(६)\n",
      " को होला यो, कसको छोरा?\n",
      "कसको बाबु गरीब? \n",
      "कुन आमाले काख लिँदामा \n",
      "बल्थे दृगका दुइ दीप?\n",
      " कुन आशाले नजर खुलायो \n",
      "सूर्य चाद्रको नजरसमिप?\n",
      " किन मुर्झायो? किन वौलायो?\n",
      " किन मधुरो यो जीवन्- व्दीप? \n",
      "(७)\n",
      "बुद्ध देवको नजर अगाडि\n",
      " यही भिखरी आएथ्यो,\n",
      " मुर्ति यसैमा शब्द यिनैमा \n",
      "मुटुको शूल कराएथ्यो,\n",
      " महान दयाको सागर ठूलो \n",
      "शब्द यिनैमा लहराएथ्यो, \n",
      "भेष यसैले बलिको शेखी\n",
      " पवित्र पारी निठुराएथ्यो।\n",
      "(८)\n",
      " कालो बादलबाट खसेको \n",
      " अन्धकारमा भित्र पसेको,\n",
      " ईश्वर हो कि भिखारी?\n",
      " बोल्दछ ईश्वर हृदय घुसेका \n",
      " घर, घर आँगन चारी\n",
      " बोल्दछ, आर्तध्वनिमा बोल्दछ\n",
      " करूणामृत दिल भारी।\n",
      " युग-युगभरको आँसुहरूको\n",
      " सार अपार उतारी। \n",
      " दु:खको दिलामा ईश्वर बोल्दछ\n",
      " अधर अनन्त उघारी।\n",
      " माग्दछ करूणा भाइहरूमा \n",
      " आई पृथिविवारि,\n",
      " माग्दछ भिक्षा ईश्वर मेरो\n",
      " आँगनको एक भिखारी?\n"
     ]
    }
   ],
   "source": [
    "for line in lines:\n",
    "    print(line)"
   ]
  },
  {
   "cell_type": "code",
   "execution_count": 29,
   "id": "03fbb588-0566-47b7-a390-625179dcb3c4",
   "metadata": {
    "tags": []
   },
   "outputs": [
    {
     "data": {
      "text/plain": [
       "['हेर', 'भिखारी', 'अडि', 'अडि', 'आयो']"
      ]
     },
     "execution_count": 29,
     "metadata": {},
     "output_type": "execute_result"
    }
   ],
   "source": [
    "lines[1].split()"
   ]
  },
  {
   "cell_type": "code",
   "execution_count": 35,
   "id": "2bf89ed4-a9e1-4389-9664-7fa1e4b8f2ad",
   "metadata": {
    "tags": []
   },
   "outputs": [
    {
     "name": "stdout",
     "output_type": "stream",
     "text": [
      "गा\n",
      "ढा\n",
      "दु\n",
      "ख\n",
      "को\n",
      "मौ\n",
      "न\n",
      "प्\n",
      "र\n",
      "का\n",
      "श\n",
      "।\n"
     ]
    }
   ],
   "source": [
    "for word in lines[3].split():\n",
    "    for g in grapheme.graphemes(word):\n",
    "        print(g)"
   ]
  },
  {
   "cell_type": "markdown",
   "id": "d579717d-4561-4c74-8ee8-b26632dd2236",
   "metadata": {},
   "source": [
    "In Nepali, there are twelve vowels and 33 consonant. Each 33 consonant can then have 12 different variation. That means there are in total (12 + 33 * 12) consonant variation. Counting all the vowels, there are (12 * 33) user perceived characters."
   ]
  },
  {
   "cell_type": "code",
   "execution_count": 50,
   "id": "df88c606-7e52-4e15-a01a-d6736c02d36a",
   "metadata": {
    "tags": []
   },
   "outputs": [
    {
     "name": "stdout",
     "output_type": "stream",
     "text": [
      "451\n"
     ]
    }
   ],
   "source": [
    "num_vowels = 12\n",
    "num_consonants = 33\n",
    "num_variations = 12\n",
    "num_digits=10\n",
    "total_user_perceived_chars = num_vowels + num_digits + num_consonants + num_consonants*num_variations\n",
    "print(total_user_perceived_chars)"
   ]
  },
  {
   "cell_type": "code",
   "execution_count": 40,
   "id": "fb3122f8-e053-440d-af4b-099c38f18306",
   "metadata": {
    "tags": []
   },
   "outputs": [],
   "source": [
    "import torch"
   ]
  },
  {
   "cell_type": "code",
   "execution_count": 41,
   "id": "4e8f9bd8-dc9b-4ed3-ba29-06f4fe2066a2",
   "metadata": {
    "tags": []
   },
   "outputs": [],
   "source": [
    "t = torch.randn(5)"
   ]
  },
  {
   "cell_type": "code",
   "execution_count": 42,
   "id": "4ab51c00-cef6-4592-a1e9-ed933eb7c1f4",
   "metadata": {
    "tags": []
   },
   "outputs": [
    {
     "data": {
      "text/plain": [
       "tensor([-0.2630, -3.0752,  0.2395, -0.2381, -1.2377])"
      ]
     },
     "execution_count": 42,
     "metadata": {},
     "output_type": "execute_result"
    }
   ],
   "source": [
    "t"
   ]
  },
  {
   "cell_type": "code",
   "execution_count": 89,
   "id": "70531f9c-f32e-42db-9fdc-cc54f7ad1866",
   "metadata": {
    "tags": []
   },
   "outputs": [
    {
     "name": "stdout",
     "output_type": "stream",
     "text": [
      "['क', 'ख', 'ग', 'घ', 'ङ', 'च', 'छ', 'ज', 'झ', 'ञ', 'ट', 'ठ', 'ड', 'ढ', 'ण', 'त', 'थ', 'द', 'ध', 'न', 'प', 'फ', 'ब', 'भ', 'म', 'य', 'र', 'ल', 'व', 'श', 'ष', 'स', 'ह', 'क्ष', 'त्र', 'ज्ञ', 'क्', 'का', 'कि', 'की', 'कु', 'कू', 'के', 'कै', 'को', 'कौ', 'कं', 'कः', 'कँ', 'कृ', 'ख्', 'खा', 'खि', 'खी', 'खु', 'खू', 'खे', 'खै', 'खो', 'खौ', 'खं', 'खः', 'खँ', 'खृ', 'ग्', 'गा', 'गि', 'गी', 'गु', 'गू', 'गे', 'गै', 'गो', 'गौ', 'गं', 'गः', 'गँ', 'गृ', 'घ्', 'घा', 'घि', 'घी', 'घु', 'घू', 'घे', 'घै', 'घो', 'घौ', 'घं', 'घः', 'घँ', 'घृ', 'ङ्', 'ङा', 'ङि', 'ङी', 'ङु', 'ङू', 'ङे', 'ङै', 'ङो', 'ङौ', 'ङं', 'ङः', 'ङँ', 'ङृ', 'च्', 'चा', 'चि', 'ची', 'चु', 'चू', 'चे', 'चै', 'चो', 'चौ', 'चं', 'चः', 'चँ', 'चृ', 'छ्', 'छा', 'छि', 'छी', 'छु', 'छू', 'छे', 'छै', 'छो', 'छौ', 'छं', 'छः', 'छँ', 'छृ', 'ज्', 'जा', 'जि', 'जी', 'जु', 'जू', 'जे', 'जै', 'जो', 'जौ', 'जं', 'जः', 'जँ', 'जृ', 'झ्', 'झा', 'झि', 'झी', 'झु', 'झू', 'झे', 'झै', 'झो', 'झौ', 'झं', 'झः', 'झँ', 'झृ', 'ञ्', 'ञा', 'ञि', 'ञी', 'ञु', 'ञू', 'ञे', 'ञै', 'ञो', 'ञौ', 'ञं', 'ञः', 'ञँ', 'ञृ', 'ट्', 'टा', 'टि', 'टी', 'टु', 'टू', 'टे', 'टै', 'टो', 'टौ', 'टं', 'टः', 'टँ', 'टृ', 'ठ्', 'ठा', 'ठि', 'ठी', 'ठु', 'ठू', 'ठे', 'ठै', 'ठो', 'ठौ', 'ठं', 'ठः', 'ठँ', 'ठृ', 'ड्', 'डा', 'डि', 'डी', 'डु', 'डू', 'डे', 'डै', 'डो', 'डौ', 'डं', 'डः', 'डँ', 'डृ', 'ढ्', 'ढा', 'ढि', 'ढी', 'ढु', 'ढू', 'ढे', 'ढै', 'ढो', 'ढौ', 'ढं', 'ढः', 'ढँ', 'ढृ', 'ण्', 'णा', 'णि', 'णी', 'णु', 'णू', 'णे', 'णै', 'णो', 'णौ', 'णं', 'णः', 'णँ', 'णृ', 'त्', 'ता', 'ति', 'ती', 'तु', 'तू', 'ते', 'तै', 'तो', 'तौ', 'तं', 'तः', 'तँ', 'तृ', 'थ्', 'था', 'थि', 'थी', 'थु', 'थू', 'थे', 'थै', 'थो', 'थौ', 'थं', 'थः', 'थँ', 'थृ', 'द्', 'दा', 'दि', 'दी', 'दु', 'दू', 'दे', 'दै', 'दो', 'दौ', 'दं', 'दः', 'दँ', 'दृ', 'ध्', 'धा', 'धि', 'धी', 'धु', 'धू', 'धे', 'धै', 'धो', 'धौ', 'धं', 'धः', 'धँ', 'धृ', 'न्', 'ना', 'नि', 'नी', 'नु', 'नू', 'ने', 'नै', 'नो', 'नौ', 'नं', 'नः', 'नँ', 'नृ', 'प्', 'पा', 'पि', 'पी', 'पु', 'पू', 'पे', 'पै', 'पो', 'पौ', 'पं', 'पः', 'पँ', 'पृ', 'फ्', 'फा', 'फि', 'फी', 'फु', 'फू', 'फे', 'फै', 'फो', 'फौ', 'फं', 'फः', 'फँ', 'फृ', 'ब्', 'बा', 'बि', 'बी', 'बु', 'बू', 'बे', 'बै', 'बो', 'बौ', 'बं', 'बः', 'बँ', 'बृ', 'भ्', 'भा', 'भि', 'भी', 'भु', 'भू', 'भे', 'भै', 'भो', 'भौ', 'भं', 'भः', 'भँ', 'भृ', 'म्', 'मा', 'मि', 'मी', 'मु', 'मू', 'मे', 'मै', 'मो', 'मौ', 'मं', 'मः', 'मँ', 'मृ', 'य्', 'या', 'यि', 'यी', 'यु', 'यू', 'ये', 'यै', 'यो', 'यौ', 'यं', 'यः', 'यँ', 'यृ', 'र्', 'रा', 'रि', 'री', 'रु', 'रू', 'रे', 'रै', 'रो', 'रौ', 'रं', 'रः', 'रँ', 'रृ', 'ल्', 'ला', 'लि', 'ली', 'लु', 'लू', 'ले', 'लै', 'लो', 'लौ', 'लं', 'लः', 'लँ', 'लृ', 'व्', 'वा', 'वि', 'वी', 'वु', 'वू', 'वे', 'वै', 'वो', 'वौ', 'वं', 'वः', 'वँ', 'वृ', 'श्', 'शा', 'शि', 'शी', 'शु', 'शू', 'शे', 'शै', 'शो', 'शौ', 'शं', 'शः', 'शँ', 'शृ', 'ष्', 'षा', 'षि', 'षी', 'षु', 'षू', 'षे', 'षै', 'षो', 'षौ', 'षं', 'षः', 'षँ', 'षृ', 'स्', 'सा', 'सि', 'सी', 'सु', 'सू', 'से', 'सै', 'सो', 'सौ', 'सं', 'सः', 'सँ', 'सृ', 'ह्', 'हा', 'हि', 'ही', 'हु', 'हू', 'हे', 'है', 'हो', 'हौ', 'हं', 'हः', 'हँ', 'हृ', 'क्ष्', 'क्षा', 'क्षि', 'क्षी', 'क्षु', 'क्षू', 'क्षे', 'क्षै', 'क्षो', 'क्षौ', 'क्षं', 'क्षः', 'क्षँ', 'क्षृ', 'त्र्', 'त्रा', 'त्रि', 'त्री', 'त्रु', 'त्रू', 'त्रे', 'त्रै', 'त्रो', 'त्रौ', 'त्रं', 'त्रः', 'त्रँ', 'त्रृ', 'ज्ञ्', 'ज्ञा', 'ज्ञि', 'ज्ञी', 'ज्ञु', 'ज्ञू', 'ज्ञे', 'ज्ञै', 'ज्ञो', 'ज्ञौ', 'ज्ञं', 'ज्ञः', 'ज्ञँ', 'ज्ञृ', 'अ', 'आ', 'इ', 'ई', 'उ', 'ऊ', 'ए', 'ऐ', 'ओ', 'औ', 'अं', 'अः', '०', '१', '२', '३', '४', '५', '६', '७', '८', '९', 'ऋ']\n"
     ]
    }
   ],
   "source": [
    "nep_consonants = \"क ख ग घ ङ च छ ज झ ञ ट ठ ड ढ ण त थ द ध न प फ ब भ म य र ल व श ष स ह क्ष त्र ज्ञ\"\n",
    "nep_variation_chars = \"् ा ि ी ु ू े ै ो ौ ं ः ँ ृ\"\n",
    "len(nep_consonants.split())\n",
    "len(nep_variation_chars.split())\n",
    "\n",
    "nep_graphemes = nep_consonants.split()\n",
    "for nc in nep_consonants.split():\n",
    "    for nvc in nep_variation_chars.split():\n",
    "        composite_ch = nc+nvc\n",
    "        nep_graphemes.append(composite_ch)\n",
    "\n",
    "nep_vowels_graphemes = \"अ आ इ ई उ ऊ ए ऐ ओ औ अं अः\"\n",
    "# 'extend' appends individual elements from one list to the other\n",
    "nep_graphemes.extend(nep_vowels_graphemes.split())\n",
    "\n",
    "nep_digits = \"० १ २ ३ ४ ५ ६ ७ ८ ९\"\n",
    "nep_graphemes.extend(nep_digits.split())\n",
    "\n",
    "nep_special_graphemes = \"ऋ । ( ) ? - ! :\"\n",
    "nep_graphemes.extend(nep_special_graphemes.split())\n",
    "print(nep_graphemes)"
   ]
  },
  {
   "cell_type": "code",
   "execution_count": 93,
   "id": "bc669fc0-e5d7-4f4a-9f31-f539498d382a",
   "metadata": {
    "tags": []
   },
   "outputs": [
    {
     "name": "stdout",
     "output_type": "stream",
     "text": [
      "दु\n",
      ":\n",
      "ख\n",
      "को\n",
      " \n",
      "दि\n",
      "ला\n",
      "मा\n",
      " \n",
      "ई\n",
      "श्\n",
      "व\n",
      "र\n",
      " \n",
      "बो\n",
      "ल्\n",
      "द\n",
      "छ\n"
     ]
    }
   ],
   "source": [
    "sent = \"दु:खको दिलामा ईश्वर बोल्दछ\"\n",
    "\n",
    "for g in grapheme.graphemes(sent):\n",
    "    print(g)"
   ]
  },
  {
   "cell_type": "code",
   "execution_count": 94,
   "id": "bc62f905-10f0-48c5-9c0f-6c1b8385a580",
   "metadata": {
    "tags": []
   },
   "outputs": [
    {
     "name": "stdout",
     "output_type": "stream",
     "text": [
      "True\n"
     ]
    }
   ],
   "source": [
    "print(':' == ':')"
   ]
  },
  {
   "cell_type": "code",
   "execution_count": null,
   "id": "df534f13-c359-4c1c-9011-0ffc883fda6e",
   "metadata": {},
   "outputs": [],
   "source": []
  }
 ],
 "metadata": {
  "kernelspec": {
   "display_name": "Python 3 (ipykernel)",
   "language": "python",
   "name": "python3"
  },
  "language_info": {
   "codemirror_mode": {
    "name": "ipython",
    "version": 3
   },
   "file_extension": ".py",
   "mimetype": "text/x-python",
   "name": "python",
   "nbconvert_exporter": "python",
   "pygments_lexer": "ipython3",
   "version": "3.11.5"
  }
 },
 "nbformat": 4,
 "nbformat_minor": 5
}
